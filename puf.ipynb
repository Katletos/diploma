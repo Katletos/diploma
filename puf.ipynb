{
 "cells": [
  {
   "cell_type": "code",
   "execution_count": 53,
   "id": "457b5f0b-b44b-4d11-baf2-89245c41270b",
   "metadata": {},
   "outputs": [],
   "source": [
    "import numpy as np\n",
    "import random"
   ]
  },
  {
   "cell_type": "markdown",
   "id": "5acbb7e8-de10-46d3-a210-05ac061d5ec3",
   "metadata": {},
   "source": [
    "generate unique delays"
   ]
  },
  {
   "cell_type": "code",
   "execution_count": 54,
   "id": "50d7622a-4e00-4aaa-be6c-2e574e9bc8b3",
   "metadata": {},
   "outputs": [
    {
     "name": "stdout",
     "output_type": "stream",
     "text": [
      "{772.9856775097498, 1031.354733846822, 521.4337564673357, 1163.3874748501887, 525.6046027179055, 659.0008734995117, 1043.2005347435363, 787.1598785681556, 1175.3745510392534, 895.5268342044263, 666.9103898255707, 924.270796864416, 926.1688838598825, 799.1804474763167, 928.5440506243998, 542.0911630160826, 931.5590986945589, 938.5152610838791, 947.4916116528198, 839.7612874685117, 1098.6168901768751, 331.3830814184254, 588.3421620694493, 846.1522969958187, 848.5647261739891, 1108.3793310801602, 343.32559388801025, 860.510228004946, 733.8466358552662, 990.3853897666163, 479.38937693603754, 991.6242701547054, 993.3641334560348, 993.0290650501788, 480.07283905033444, 994.944068083645, 1125.5591578961748, 871.167584780698, 363.3693664260845, 1133.4928634392372, 879.3589895746246, 1008.6884139406376, 1009.8092774092612, 881.9779638253683, 1139.5621120489777, 1011.0055762752385, 1018.1461086389027, 379.89622290546515, 510.1440270443157, 1023.8344784654995}\n"
     ]
    }
   ],
   "source": [
    "MIN_RANGE = 300.0\n",
    "MAX_RANGE = 1200.0\n",
    "COUNT = 50\n",
    "\n",
    "prop_delays = set()\n",
    "while len(prop_delays) < COUNT:\n",
    "    prop_delays.add(random.uniform(MIN_RANGE, MAX_RANGE))\n",
    "\n",
    "print(prop_delays)"
   ]
  },
  {
   "cell_type": "markdown",
   "id": "8480f134-09e6-4d51-9daa-246b43ab6697",
   "metadata": {},
   "source": [
    "select N random pairs of indexes"
   ]
  },
  {
   "cell_type": "code",
   "execution_count": 55,
   "id": "fb0ea1cf-c64f-4cf9-8a51-4e5bc75da50c",
   "metadata": {},
   "outputs": [
    {
     "name": "stdout",
     "output_type": "stream",
     "text": [
      "{(28, 46), (26, 33), (35, 42), (13, 39), (36, 10), (41, 0), (36, 16), (4, 21), (40, 38), (47, 25), (18, 41), (37, 24), (14, 28), (27, 25), (21, 46), (5, 34), (9, 38), (2, 26), (28, 39), (13, 32), (49, 31), (33, 47), (45, 15), (40, 37), (40, 43), (27, 15), (37, 35), (1, 5), (33, 13), (35, 16), (25, 21), (13, 40), (13, 43), (17, 16), (19, 10), (47, 32), (7, 48), (27, 23), (45, 38), (25, 11)}\n"
     ]
    }
   ],
   "source": [
    "N = 40\n",
    "pairs = set()\n",
    "\n",
    "for i in range(0, N):\n",
    "    first = random.randint(0, COUNT - 1)\n",
    "    second = random.randint(0, COUNT - 1)\n",
    "    pairs.add((first, second))\n",
    "\n",
    "print(pairs)"
   ]
  },
  {
   "cell_type": "markdown",
   "id": "b996fcd3-4598-42b2-83ce-c41d14b06157",
   "metadata": {},
   "source": [
    "generate bit vectors"
   ]
  },
  {
   "cell_type": "code",
   "execution_count": 56,
   "id": "2f0d787b-d7be-4fb6-a8ad-28db60ec343d",
   "metadata": {},
   "outputs": [
    {
     "name": "stdout",
     "output_type": "stream",
     "text": [
      "[0, 0, 0, 0, 1, 1, 1, 1, 1, 0, 0, 1, 1, 0, 0, 1, 1, 1, 0, 0, 1, 1, 1, 1, 0, 1, 0, 1, 1, 1, 1, 0, 0, 1, 1, 0, 1, 1, 1, 1]\n"
     ]
    }
   ],
   "source": [
    "bit_vector = list()\n",
    "delays = list(prop_delays)\n",
    "\n",
    "\n",
    "for i in pairs:\n",
    "    x = delays[i[0]]\n",
    "    y = delays[i[1]]\n",
    "\n",
    "    res = 1 if x > y else 0\n",
    "    bit_vector.append(res)\n",
    "\n",
    "print(bit_vector)"
   ]
  },
  {
   "cell_type": "code",
   "execution_count": null,
   "id": "a5d0d630-3bd7-4264-970b-1beb8f590e5a",
   "metadata": {},
   "outputs": [],
   "source": []
  },
  {
   "cell_type": "code",
   "execution_count": null,
   "id": "285bfa38-997f-4222-a08a-09594b243bcf",
   "metadata": {},
   "outputs": [],
   "source": []
  }
 ],
 "metadata": {
  "kernelspec": {
   "display_name": "Python 3 (ipykernel)",
   "language": "python",
   "name": "python3"
  },
  "language_info": {
   "codemirror_mode": {
    "name": "ipython",
    "version": 3
   },
   "file_extension": ".py",
   "mimetype": "text/x-python",
   "name": "python",
   "nbconvert_exporter": "python",
   "pygments_lexer": "ipython3",
   "version": "3.12.5"
  }
 },
 "nbformat": 4,
 "nbformat_minor": 5
}
