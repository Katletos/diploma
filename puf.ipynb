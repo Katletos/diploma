{
 "cells": [
  {
   "cell_type": "code",
   "execution_count": 65,
   "id": "457b5f0b-b44b-4d11-baf2-89245c41270b",
   "metadata": {},
   "outputs": [],
   "source": [
    "import numpy as np\n",
    "import random"
   ]
  },
  {
   "cell_type": "markdown",
   "id": "5acbb7e8-de10-46d3-a210-05ac061d5ec3",
   "metadata": {},
   "source": [
    "generate unique delays"
   ]
  },
  {
   "cell_type": "code",
   "execution_count": 66,
   "id": "50d7622a-4e00-4aaa-be6c-2e574e9bc8b3",
   "metadata": {},
   "outputs": [
    {
     "name": "stdout",
     "output_type": "stream",
     "text": [
      "{769.9189361548327, 515.0590995461168, 390.0581995261307, 648.3826488999765, 906.0587983096333, 511.96570685537625, 1034.0431353694569, 394.41309709573864, 526.7143551122302, 914.6996636711284, 663.1063254289479, 1176.2168696192243, 924.6397849714531, 1186.102387728827, 803.5158129207261, 804.1900550713592, 803.4799963443957, 422.3550788686649, 424.85204974670546, 937.3682719130429, 301.0307087313908, 691.0547582216725, 694.2662723422659, 310.0242096667472, 823.9770974238567, 311.65420410211203, 570.0932815014139, 824.7712678013365, 835.920471463488, 325.14388860211915, 714.4656984877497, 334.36358945041917, 1106.4862566774545, 469.84365983961663, 476.3816048682853, 349.31378182665594, 889.4569979733853, 866.9213753437682, 1124.1370401663914, 356.0131332924687, 1129.6810584429568, 747.6441702242962, 621.788111173679, 1135.7365083743773, 496.33986872409776, 370.4891747742262, 374.8413687507833, 633.758967408106, 1018.7737265704263, 1151.4500482354024}\n"
     ]
    }
   ],
   "source": [
    "MIN_RANGE = 300.0\n",
    "MAX_RANGE = 1200.0\n",
    "COUNT = 50\n",
    "\n",
    "prop_delays = set()\n",
    "while len(prop_delays) < COUNT:\n",
    "    prop_delays.add(random.uniform(MIN_RANGE, MAX_RANGE))\n",
    "\n",
    "print(prop_delays)"
   ]
  },
  {
   "cell_type": "markdown",
   "id": "8480f134-09e6-4d51-9daa-246b43ab6697",
   "metadata": {},
   "source": [
    "select N random pairs of indexes"
   ]
  },
  {
   "cell_type": "code",
   "execution_count": 67,
   "id": "fb0ea1cf-c64f-4cf9-8a51-4e5bc75da50c",
   "metadata": {},
   "outputs": [
    {
     "name": "stdout",
     "output_type": "stream",
     "text": [
      "{(46, 30), (43, 46), (7, 26), (45, 16), (22, 20), (44, 48), (18, 35), (13, 39), (0, 2), (20, 29), (3, 22), (43, 3), (4, 30), (17, 27), (3, 40), (1, 12), (49, 16), (49, 13), (42, 41), (16, 8), (25, 40), (46, 10), (8, 38), (20, 3), (25, 30), (37, 1), (1, 38), (13, 40), (36, 11), (32, 47), (43, 1), (18, 36), (48, 43), (27, 14), (39, 40), (12, 20), (8, 25), (1, 19), (15, 18), (15, 15)}\n"
     ]
    }
   ],
   "source": [
    "N = 40\n",
    "pairs = set()\n",
    "\n",
    "while len(pairs) < N:\n",
    "    first = random.randint(0, COUNT - 1)\n",
    "    second = random.randint(0, COUNT - 1)\n",
    "    pairs.add((first, second))\n",
    "\n",
    "print(pairs)"
   ]
  },
  {
   "cell_type": "markdown",
   "id": "b996fcd3-4598-42b2-83ce-c41d14b06157",
   "metadata": {},
   "source": [
    "generate bit vectors"
   ]
  },
  {
   "cell_type": "code",
   "execution_count": 68,
   "id": "2f0d787b-d7be-4fb6-a8ad-28db60ec343d",
   "metadata": {},
   "outputs": [
    {
     "name": "stdout",
     "output_type": "stream",
     "text": [
      "[0, 1, 0, 0, 1, 0, 1, 1, 1, 0, 0, 1, 1, 0, 0, 0, 1, 0, 0, 1, 0, 0, 0, 0, 0, 1, 0, 1, 0, 1, 1, 0, 0, 1, 0, 1, 1, 0, 1, 0]\n"
     ]
    }
   ],
   "source": [
    "bit_vector = list()\n",
    "delays = list(prop_delays)\n",
    "\n",
    "\n",
    "for i in pairs:\n",
    "    x = delays[i[0]]\n",
    "    y = delays[i[1]]\n",
    "\n",
    "    res = 1 if x > y else 0\n",
    "    bit_vector.append(res)\n",
    "\n",
    "print(bit_vector)"
   ]
  }
 ],
 "metadata": {
  "kernelspec": {
   "display_name": "Python 3 (ipykernel)",
   "language": "python",
   "name": "python3"
  },
  "language_info": {
   "codemirror_mode": {
    "name": "ipython",
    "version": 3
   },
   "file_extension": ".py",
   "mimetype": "text/x-python",
   "name": "python",
   "nbconvert_exporter": "python",
   "pygments_lexer": "ipython3",
   "version": "3.12.5"
  }
 },
 "nbformat": 4,
 "nbformat_minor": 5
}
